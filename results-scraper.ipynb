{
 "cells": [
  {
   "cell_type": "code",
   "execution_count": 2,
   "id": "1d508420-5922-4a82-bbea-2490b405e4c2",
   "metadata": {},
   "outputs": [],
   "source": [
    "import requests\n",
    "from bs4 import BeautifulSoup"
   ]
  },
  {
   "cell_type": "code",
   "execution_count": 4,
   "id": "99ef0777-fc8d-495c-9d37-efe47f7d5ab0",
   "metadata": {},
   "outputs": [],
   "source": [
    "headers = {\n",
    "    \"User-Agent\": \"fantapoma\"\n",
    "}\n",
    "\n",
    "r = requests.get(\"https://canottaggioservice.canottaggio.net/dati/rix241301.html\", headers=headers)"
   ]
  },
  {
   "cell_type": "code",
   "execution_count": 8,
   "id": "54cd3f9d-2e98-4879-b564-aef6afab0d50",
   "metadata": {},
   "outputs": [],
   "source": [
    "soup = BeautifulSoup(r.text, 'html.parser')\n",
    "\n",
    "divs = [div for div in soup.find_all('div') if div.find_all('table')]"
   ]
  },
  {
   "cell_type": "code",
   "execution_count": 24,
   "id": "a82f57c1-a9f1-499e-9291-fc3263e53230",
   "metadata": {},
   "outputs": [],
   "source": [
    "def print_race_infos(race_infos):\n",
    "    infos = race_infos.text.replace('\\n', '').replace('\\t', '').split(' ')\n",
    "    race_number = infos[1]"
   ]
  },
  {
   "cell_type": "code",
   "execution_count": 23,
   "id": "799cf863-80ac-4103-ba50-1f3ff8a5b9f6",
   "metadata": {},
   "outputs": [
    {
     "name": "stdout",
     "output_type": "stream",
     "text": [
      "['GARA', '1', 'del', '04', 'Ore', '09:30', 'QUATTRO', 'DI', 'COPPIA', 'Under', '19', 'M', '\\xa0', 'Finale', 'A', 'GARA', 'REGIONALE', '(Codice', '1', 'N.Eq.', '4', 'N.Isc.', '4)']\n"
     ]
    }
   ],
   "source": [
    "for div in divs:\n",
    "    race, results = div.find_all('table')[-2:]\n",
    "    print()\n",
    "    break"
   ]
  },
  {
   "cell_type": "code",
   "execution_count": null,
   "id": "80223b53-783b-48a0-bd38-8b07744113a0",
   "metadata": {},
   "outputs": [],
   "source": []
  }
 ],
 "metadata": {
  "kernelspec": {
   "display_name": "Python 3 (ipykernel)",
   "language": "python",
   "name": "python3"
  },
  "language_info": {
   "codemirror_mode": {
    "name": "ipython",
    "version": 3
   },
   "file_extension": ".py",
   "mimetype": "text/x-python",
   "name": "python",
   "nbconvert_exporter": "python",
   "pygments_lexer": "ipython3",
   "version": "3.10.9"
  }
 },
 "nbformat": 4,
 "nbformat_minor": 5
}
